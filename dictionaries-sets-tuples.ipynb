{
 "cells": [
  {
   "cell_type": "markdown",
   "metadata": {},
   "source": [
    "# Dictionaries, Sets, Tuples\n",
    "\n",
    "By [Allison Parrish](http://www.decontextualize.com/)\n",
    "\n",
    "## Dictionaries\n",
    "\n",
    "The dictionary is a very useful data structure in Python. The easiest way to conceptualize a dictionary is that it's like a spreadsheet with two columns: the \"key\" column, and the \"value\" column. Unlike a spreadsheet (or a Python list), dictionaries are implemented in such a way that it is very fast and efficient to find values by looking up their corresponding key.\n",
    "\n",
    "We're going to focus here just on learning how to get data *out* of dictionaries, not how to build new dictionaries from existing data. We're also going to omit some of the nitty-gritty details about how dictionaries work internally. As a consequence, some of what I'm going to tell you will seem weird and magical. Be prepared!\n",
    "\n",
    "### Why dictionaries?\n",
    "\n",
    "For our purposes, the benefit of having data that can be parsed into dictionaries, as opposed to lists, is that dictionary keys tend to be *mnemonic*. That is, a dictionary key will usually tell you something about what its value is. (This is in opposition to parsing, say, CSV data, where we have to keep counting fields in the header row and translating that to the index that we want.)\n",
    "\n",
    "Lists and dictionaries work together and are used extensively to represent all different kinds of data. Often, when we get data from a remote source, or when we choose how to represent data internally, we'll use both in tandem. The most common form this will take is representing a table, or a database, as a *list* of records that are themselves represented as *dictionaries* (mapping the name of the column to the value for that column).\n",
    "\n",
    "Dictionaries are also good for storing *associations* or *mappings* for quick lookups. For example, if you wanted to write a program that was able to recall the capital city of every US state, you might use a dictionary whose keys are the names of the states, and whose values are the corresponding capitals. Dictionaries are also used for data analysis tasks, like keeping track of how many times a particular token occurs in an incoming data stream.\n",
    "\n",
    "### What dictionaries look like\n",
    "\n",
    "Dictionaries are written with curly brackets, surrounding a series of comma-separated pairs of *keys* and *values*. Here's a very simple dictionary, with one key, `Obama`, associated with a value, `Hawaii`:"
   ]
  },
  {
   "cell_type": "code",
   "execution_count": 1,
   "metadata": {},
   "outputs": [
    {
     "data": {
      "text/plain": [
       "{'Obama': 'Hawaii'}"
      ]
     },
     "execution_count": 1,
     "metadata": {},
     "output_type": "execute_result"
    }
   ],
   "source": [
    "{'Obama': 'Hawaii'}"
   ]
  },
  {
   "cell_type": "markdown",
   "metadata": {},
   "source": [
    "Here's another dictionary, with more entries:"
   ]
  },
  {
   "cell_type": "code",
   "execution_count": 2,
   "metadata": {},
   "outputs": [
    {
     "data": {
      "text/plain": [
       "{'Obama': 'Hawaii',\n",
       " 'Bush': 'Texas',\n",
       " 'Clinton': 'Arkansas',\n",
       " 'Trump': 'New York'}"
      ]
     },
     "execution_count": 2,
     "metadata": {},
     "output_type": "execute_result"
    }
   ],
   "source": [
    "{'Obama': 'Hawaii', 'Bush': 'Texas', 'Clinton': 'Arkansas', 'Trump': 'New York'}"
   ]
  },
  {
   "cell_type": "markdown",
   "metadata": {},
   "source": [
    "As you can see, we're building a simple dictionary that associates the names of presidents to the home states of those presidents.\n",
    "\n",
    "The association of a key with a value is sometimes called a *mapping*. (In fact, in other programming languages like Java, the dictionary data structure is called a \"Map.\") So, in the above dictionary for example, we might say that the key `Bill Clinton` *maps to* the value `Arkansas`.\n",
    "\n",
    "A dictionary is just like any other Python value. You can assign it to a variable:"
   ]
  },
  {
   "cell_type": "code",
   "execution_count": 3,
   "metadata": {},
   "outputs": [],
   "source": [
    "president_states = {'Obama': 'Hawaii', 'Bush': 'Texas', 'Clinton': 'Arkansas', 'Trump': 'New York'}"
   ]
  },
  {
   "cell_type": "markdown",
   "metadata": {},
   "source": [
    "And that value has a type:"
   ]
  },
  {
   "cell_type": "code",
   "execution_count": 4,
   "metadata": {},
   "outputs": [
    {
     "data": {
      "text/plain": [
       "dict"
      ]
     },
     "execution_count": 4,
     "metadata": {},
     "output_type": "execute_result"
    }
   ],
   "source": [
    "type(president_states)"
   ]
  },
  {
   "cell_type": "markdown",
   "metadata": {},
   "source": [
    "At its most basic level, a dictionary is sort of like a two-column spreadsheet, where the key is one column and the value is another column. If you were to represent the dictionary above as a spreadsheet, it might look like this:\n",
    "\n",
    "| key   | value   |\n",
    "| ----- | ------- |\n",
    "| Obama | Hawaii |\n",
    "| Bush | Texas |\n",
    "| Clinton | Arkansas |\n",
    "| Trump | New York |\n",
    "\n",
    "The main difference between a spreadsheet and a dictionary is that dictionaries are *unordered*. For an explanation of this, see below."
   ]
  },
  {
   "cell_type": "markdown",
   "metadata": {},
   "source": [
    "Keys and values in dictionaries can be of any data type, not just strings. Here's a dictionary, for example, that maps integers to lists of floating point numbers:"
   ]
  },
  {
   "cell_type": "code",
   "execution_count": 5,
   "metadata": {},
   "outputs": [
    {
     "data": {
      "text/plain": [
       "{17: [1.6, 2.45], 42: [11.6, 19.4], 101: [0.123, 4.89]}"
      ]
     },
     "execution_count": 5,
     "metadata": {},
     "output_type": "execute_result"
    }
   ],
   "source": [
    "{17: [1.6, 2.45], 42: [11.6, 19.4], 101: [0.123, 4.89]}"
   ]
  },
  {
   "cell_type": "markdown",
   "metadata": {},
   "source": [
    "> HEAD-SPINNING OPTIONAL ASIDE: Actually, \"any type\" above is a simplification: *values* can be of any type, but keys must be *hashable*---see [the Python glossary](https://docs.python.org/2/glossary.html#term-hashable) for more information. In practice, this limitation means you can't use lists (or dictionaries themselves) as keys in dictionaries. There are ways of getting around this, though!\n",
    "\n",
    "A dictionary can also be empty, containing no key/value pairs at all:"
   ]
  },
  {
   "cell_type": "code",
   "execution_count": 6,
   "metadata": {},
   "outputs": [
    {
     "data": {
      "text/plain": [
       "{}"
      ]
     },
     "execution_count": 6,
     "metadata": {},
     "output_type": "execute_result"
    }
   ],
   "source": [
    "{}"
   ]
  },
  {
   "cell_type": "markdown",
   "metadata": {},
   "source": [
    "### Getting values out of dictionaries\n",
    "\n",
    "The primary operation that we'll perform on dictionaries is writing an expression that evaluates to the value for a particular key. We do that with the same syntax we used to get a value at a particular index from a list. Except with dictionaries, instead of using a number, we use one of the keys that we had specified for the value when making the dictionary. For example, if we wanted to know what Bill Clinton's home state was, or, more precisely, what the value for the key `Clinton` is, we would write this expression:"
   ]
  },
  {
   "cell_type": "code",
   "execution_count": 7,
   "metadata": {
    "scrolled": true
   },
   "outputs": [
    {
     "data": {
      "text/plain": [
       "'Arkansas'"
      ]
     },
     "execution_count": 7,
     "metadata": {},
     "output_type": "execute_result"
    }
   ],
   "source": [
    "president_states[\"Clinton\"]"
   ]
  },
  {
   "cell_type": "markdown",
   "metadata": {},
   "source": [
    "Going back to our spreadsheet analogy, this is like looking for the row whose first column is \"Clinton\" and getting the value from the corresponding second column."
   ]
  },
  {
   "cell_type": "markdown",
   "metadata": {},
   "source": [
    "If we put a key in those brackets that does not exist in the dictionary, we get an error similar to the one we get when trying to access an element of an array beyond the end of a list:"
   ]
  },
  {
   "cell_type": "code",
   "execution_count": 8,
   "metadata": {},
   "outputs": [
    {
     "ename": "KeyError",
     "evalue": "'Franklin'",
     "output_type": "error",
     "traceback": [
      "\u001b[0;31m---------------------------------------------------------------------------\u001b[0m",
      "\u001b[0;31mKeyError\u001b[0m                                  Traceback (most recent call last)",
      "Cell \u001b[0;32mIn[8], line 1\u001b[0m\n\u001b[0;32m----> 1\u001b[0m president_states[\u001b[38;5;124m'\u001b[39m\u001b[38;5;124mFranklin\u001b[39m\u001b[38;5;124m'\u001b[39m]\n",
      "\u001b[0;31mKeyError\u001b[0m: 'Franklin'"
     ]
    }
   ],
   "source": [
    "president_states['Franklin']"
   ]
  },
  {
   "cell_type": "markdown",
   "metadata": {},
   "source": [
    "As you might suspect, the thing you put inside the brackets doesn't have to be a string; it can be any Python expression, as long as it evaluates to something that is a key in the dictionary:"
   ]
  },
  {
   "cell_type": "code",
   "execution_count": 9,
   "metadata": {},
   "outputs": [
    {
     "data": {
      "text/plain": [
       "'Hawaii'"
      ]
     },
     "execution_count": 9,
     "metadata": {},
     "output_type": "execute_result"
    }
   ],
   "source": [
    "president = 'Obama'\n",
    "president_states[president]"
   ]
  },
  {
   "cell_type": "markdown",
   "metadata": {},
   "source": [
    "You can get a list of all the keys in a dictionary using the dictionary's `.keys()` method:"
   ]
  },
  {
   "cell_type": "code",
   "execution_count": 10,
   "metadata": {},
   "outputs": [
    {
     "data": {
      "text/plain": [
       "dict_keys(['Obama', 'Bush', 'Clinton', 'Trump'])"
      ]
     },
     "execution_count": 10,
     "metadata": {},
     "output_type": "execute_result"
    }
   ],
   "source": [
    "president_states.keys()"
   ]
  },
  {
   "cell_type": "markdown",
   "metadata": {},
   "source": [
    "That funny-looking `dict_keys(...)` thing isn't *exactly* a list, but it's close enough: you can use it anywhere you would normally use a list, like in a list comprehension:"
   ]
  },
  {
   "cell_type": "code",
   "execution_count": 11,
   "metadata": {},
   "outputs": [
    {
     "data": {
      "text/plain": [
       "['OBAMA', 'BUSH', 'CLINTON', 'TRUMP']"
      ]
     },
     "execution_count": 11,
     "metadata": {},
     "output_type": "execute_result"
    }
   ],
   "source": [
    "[item.upper() for item in president_states.keys()]"
   ]
  },
  {
   "cell_type": "markdown",
   "metadata": {},
   "source": [
    "... or a `for` loop:"
   ]
  },
  {
   "cell_type": "code",
   "execution_count": 12,
   "metadata": {},
   "outputs": [
    {
     "name": "stdout",
     "output_type": "stream",
     "text": [
      "Obama\n",
      "Bush\n",
      "Clinton\n",
      "Trump\n"
     ]
    }
   ],
   "source": [
    "for item in president_states.keys():\n",
    "    print(item)"
   ]
  },
  {
   "cell_type": "markdown",
   "metadata": {},
   "source": [
    "And a list of all the values with the `.values()` method:"
   ]
  },
  {
   "cell_type": "code",
   "execution_count": 13,
   "metadata": {},
   "outputs": [
    {
     "data": {
      "text/plain": [
       "dict_values(['Hawaii', 'Texas', 'Arkansas', 'New York'])"
      ]
     },
     "execution_count": 13,
     "metadata": {},
     "output_type": "execute_result"
    }
   ],
   "source": [
    "president_states.values()"
   ]
  },
  {
   "cell_type": "markdown",
   "metadata": {},
   "source": [
    "If you want a list of all key/value pairs, you can call the `.items()` method:"
   ]
  },
  {
   "cell_type": "code",
   "execution_count": 14,
   "metadata": {},
   "outputs": [
    {
     "data": {
      "text/plain": [
       "dict_items([('Obama', 'Hawaii'), ('Bush', 'Texas'), ('Clinton', 'Arkansas'), ('Trump', 'New York')])"
      ]
     },
     "execution_count": 14,
     "metadata": {},
     "output_type": "execute_result"
    }
   ],
   "source": [
    "president_states.items()"
   ]
  },
  {
   "cell_type": "markdown",
   "metadata": {},
   "source": [
    "(The weird list-like things here that use parentheses instead of brackets are called *tuples*. We'll discuss those later.)"
   ]
  },
  {
   "cell_type": "markdown",
   "metadata": {},
   "source": [
    "### Other operations on dictionaries\n",
    "\n",
    "[Here's a list of all the methods that dictionaries support](https://docs.python.org/3.6/library/stdtypes.html#mapping-types-dict). I want to talk about a few of these in particular. First, the in operator (which we've used previously to check to see if there's a substring in a string, or a particular item in a list), also works with dictionaries! It checks to see if a particular key exists in the dictionary:"
   ]
  },
  {
   "cell_type": "code",
   "execution_count": 15,
   "metadata": {},
   "outputs": [
    {
     "data": {
      "text/plain": [
       "True"
      ]
     },
     "execution_count": 15,
     "metadata": {},
     "output_type": "execute_result"
    }
   ],
   "source": [
    "'Obama' in president_states"
   ]
  },
  {
   "cell_type": "code",
   "execution_count": 16,
   "metadata": {},
   "outputs": [
    {
     "data": {
      "text/plain": [
       "False"
      ]
     },
     "execution_count": 16,
     "metadata": {},
     "output_type": "execute_result"
    }
   ],
   "source": [
    "'Franklin' in president_states"
   ]
  },
  {
   "cell_type": "markdown",
   "metadata": {},
   "source": [
    "A dictionary can also go in a `for` loop, in the spot between `in` and the colon (where you might normally put a list). If you write a for loop like this, the loop will iterate over each key in the dictionary:"
   ]
  },
  {
   "cell_type": "code",
   "execution_count": 17,
   "metadata": {},
   "outputs": [
    {
     "name": "stdout",
     "output_type": "stream",
     "text": [
      "Obama\n",
      "Bush\n",
      "Clinton\n",
      "Trump\n"
     ]
    }
   ],
   "source": [
    "for item in president_states:\n",
    "    print(item)"
   ]
  },
  {
   "cell_type": "markdown",
   "metadata": {},
   "source": [
    "### Dictionaries can contain lists and other dictionaries\n",
    "\n",
    "Dictionaries are often used to represent *hierarchical* data structures, that is, data structures with a top-down organization. For example, consider a program intended to keep track of a shopping list. In such a program, you might want to categorize grocery items by category, so you might make a dictionary that has a key for each category:"
   ]
  },
  {
   "cell_type": "code",
   "execution_count": 18,
   "metadata": {},
   "outputs": [],
   "source": [
    "shopping = {'produce': ['apples', 'oranges', 'spinach', 'carrots'],\n",
    "            'meat': ['ground beef', 'chicken breast']}"
   ]
  },
  {
   "cell_type": "markdown",
   "metadata": {},
   "source": [
    "The `shopping` dictionary above has two keys, whose values are both *lists*. Writing an expression that evaluates to one of these lists is easy, e.g.:"
   ]
  },
  {
   "cell_type": "code",
   "execution_count": 19,
   "metadata": {},
   "outputs": [
    {
     "data": {
      "text/plain": [
       "['ground beef', 'chicken breast']"
      ]
     },
     "execution_count": 19,
     "metadata": {},
     "output_type": "execute_result"
    }
   ],
   "source": [
    "shopping['meat']"
   ]
  },
  {
   "cell_type": "markdown",
   "metadata": {},
   "source": [
    "And you could write a `for` loop to print out the items of one of these lists fairly easily as well, e.g.:"
   ]
  },
  {
   "cell_type": "code",
   "execution_count": 20,
   "metadata": {},
   "outputs": [
    {
     "name": "stdout",
     "output_type": "stream",
     "text": [
      "Produce items on your list:\n",
      "* apples\n",
      "* oranges\n",
      "* spinach\n",
      "* carrots\n"
     ]
    }
   ],
   "source": [
    "print(\"Produce items on your list:\")\n",
    "for item in shopping['produce']:\n",
    "    print(\"* \" + item)"
   ]
  },
  {
   "cell_type": "markdown",
   "metadata": {},
   "source": [
    "Slightly more challenging is this: how do you write an expression that evaluates to (let's say) the *first item* of the list of produce? The trick to this is to remember how indexing syntax works. When you have a pair of square brackets with a single value inside of them, Python looks immediately to the left of those square brackets for an expression that *evaluates to* either a list or a dictionary. For example, in the following expression:"
   ]
  },
  {
   "cell_type": "code",
   "execution_count": 21,
   "metadata": {},
   "outputs": [
    {
     "data": {
      "text/plain": [
       "20"
      ]
     },
     "execution_count": 21,
     "metadata": {},
     "output_type": "execute_result"
    }
   ],
   "source": [
    "[5, 10, 15, 20][3]"
   ]
  },
  {
   "cell_type": "markdown",
   "metadata": {},
   "source": [
    "... you can think of Python as looking at this expression from right to left. It sees the `[3]` first and then thinks, \"okay, I need to find something that is a list or dictionary directly to the left of this, and grab the third item (index-wise).\" In fact, it *does* find a list or a dictionary (i.e., the list `[5, 10, 15, 20]`) and evaluates the entire expression to `20` accordingly.\n",
    "\n",
    "With that in mind, let's rephrase the task. I want to get:\n",
    "\n",
    "* the first item\n",
    "* from the list that is the value for the key `produce`\n",
    "* in the dictionary `shopping`\n",
    "\n",
    "We can work at this problem by following these instructions and then writing the expression *in reverse*. To get the first item from a list, we write:\n",
    "\n",
    "    ????[0] # the first item\n",
    "    \n",
    "`????` is just a placeholder for the part of the code that we haven't written yet, but we know that it has to be a list. Then, to get the value for the key `produce`:\n",
    "\n",
    "    ????[\"produce\"][0] # from the list that is the value for the key `produce`\n",
    "    \n",
    "Again, `????` is a placeholder, but now we know it has to be a dictionary. The dictionary, of course, is `shopping`, so we can fill that in as the last step:\n",
    "\n",
    "    shopping[\"produce\"][0]\n",
    "    \n",
    "Let's see what that expression evaluates to:"
   ]
  },
  {
   "cell_type": "code",
   "execution_count": 22,
   "metadata": {},
   "outputs": [
    {
     "data": {
      "text/plain": [
       "'apples'"
      ]
     },
     "execution_count": 22,
     "metadata": {},
     "output_type": "execute_result"
    }
   ],
   "source": [
    "shopping[\"produce\"][0]"
   ]
  },
  {
   "cell_type": "markdown",
   "metadata": {},
   "source": [
    "Exactly right! But let's say we want to take the organization in our dictionary up a notch and create separate categories for fruits and vegetables. One way to do this would be to make the value for the key `produce` be... another dictionary, like so:"
   ]
  },
  {
   "cell_type": "code",
   "execution_count": 23,
   "metadata": {},
   "outputs": [],
   "source": [
    "shopping = {'produce': {'fruits': ['apples', 'oranges'], 'vegetables': ['spinach', 'carrots']},\n",
    "            'meat': ['ground beef', 'chicken breast']}"
   ]
  },
  {
   "cell_type": "markdown",
   "metadata": {},
   "source": [
    "This is now a pretty complicated data structure! (Well, not *that* complicated compared to what you'll see, e.g., in responses from web APIs. But it's the most complicated data structure we've made so far.) If we were to draw a schematic of this data structure, it might look something like this:\n",
    "\n",
    "    shopping (dictionary)\n",
    "        -> produce (dictionary)\n",
    "            -> fruits (list)\n",
    "            -> vegetables (list)\n",
    "        -> meat (list)\n",
    "        \n",
    "In prose: `shopping` is a variable that contains a dictionary. That dictionary has two keys: `produce`, whose value is itself a dictionary, and `meat`, whose value is a list. (Whew!)\n",
    "\n",
    "Given this data structure, let's work through how to do the following tasks:\n",
    "\n",
    "* Get a list of all fruits\n",
    "* Get a list of all categories of produce\n",
    "* Get the first fruit\n",
    "* Get the second vegetable\n",
    "\n",
    "Getting a list of the fruits requires getting the value for the `fruits` key in the dictionary that is the value for the `produce` key. So we start out with:\n",
    "\n",
    "                       ['fruits'] -> Step one\n",
    "            ['produce']['fruits'] -> Step two\n",
    "    shopping['produce']['fruits'] -> Step three\n",
    "    \n",
    "The final expression:"
   ]
  },
  {
   "cell_type": "code",
   "execution_count": 24,
   "metadata": {},
   "outputs": [
    {
     "data": {
      "text/plain": [
       "['apples', 'oranges']"
      ]
     },
     "execution_count": 24,
     "metadata": {},
     "output_type": "execute_result"
    }
   ],
   "source": [
    "# A list of all fruits\n",
    "shopping['produce']['fruits']"
   ]
  },
  {
   "cell_type": "markdown",
   "metadata": {},
   "source": [
    "Continuing with our tasks:"
   ]
  },
  {
   "cell_type": "code",
   "execution_count": 25,
   "metadata": {},
   "outputs": [
    {
     "data": {
      "text/plain": [
       "dict_keys(['fruits', 'vegetables'])"
      ]
     },
     "execution_count": 25,
     "metadata": {},
     "output_type": "execute_result"
    }
   ],
   "source": [
    "# a list of all categories of produce\n",
    "shopping['produce'].keys()"
   ]
  },
  {
   "cell_type": "code",
   "execution_count": 26,
   "metadata": {},
   "outputs": [
    {
     "data": {
      "text/plain": [
       "'apples'"
      ]
     },
     "execution_count": 26,
     "metadata": {},
     "output_type": "execute_result"
    }
   ],
   "source": [
    "# the first fruit\n",
    "shopping['produce']['fruits'][0]"
   ]
  },
  {
   "cell_type": "code",
   "execution_count": 27,
   "metadata": {},
   "outputs": [
    {
     "data": {
      "text/plain": [
       "'carrots'"
      ]
     },
     "execution_count": 27,
     "metadata": {},
     "output_type": "execute_result"
    }
   ],
   "source": [
    "# the second vegetable\n",
    "shopping['produce']['vegetables'][1]"
   ]
  },
  {
   "cell_type": "markdown",
   "metadata": {},
   "source": [
    "### Adding key/value pairs to a dictionary\n",
    "\n",
    "Once you've assigned a dictionary to a variable, you can add another key/value pair to the dictionary by assigning a value to a new index, like so:"
   ]
  },
  {
   "cell_type": "code",
   "execution_count": 28,
   "metadata": {},
   "outputs": [],
   "source": [
    "president_states['Reagan'] = 'California'"
   ]
  },
  {
   "cell_type": "markdown",
   "metadata": {},
   "source": [
    "Take a look at the dictionary to see that there's a new key/value pair in there:"
   ]
  },
  {
   "cell_type": "code",
   "execution_count": 29,
   "metadata": {},
   "outputs": [
    {
     "data": {
      "text/plain": [
       "{'Obama': 'Hawaii',\n",
       " 'Bush': 'Texas',\n",
       " 'Clinton': 'Arkansas',\n",
       " 'Trump': 'New York',\n",
       " 'Reagan': 'California'}"
      ]
     },
     "execution_count": 29,
     "metadata": {},
     "output_type": "execute_result"
    }
   ],
   "source": [
    "president_states"
   ]
  },
  {
   "cell_type": "markdown",
   "metadata": {},
   "source": [
    "### Dictionary keys are unique\n",
    "\n",
    "Another important fact about dictionaries is that you can't put the same key into one dictionary twice. If you try to write out a dictionary that has the same key used more than once, Python will silently ignore all but one of the key/value pairs. For example:"
   ]
  },
  {
   "cell_type": "code",
   "execution_count": 32,
   "metadata": {},
   "outputs": [
    {
     "data": {
      "text/plain": [
       "{'a': 3}"
      ]
     },
     "execution_count": 32,
     "metadata": {},
     "output_type": "execute_result"
    }
   ],
   "source": [
    "{'a': 1, 'a': 2, 'a': 3}"
   ]
  },
  {
   "cell_type": "markdown",
   "metadata": {},
   "source": [
    "Similarly, if we attempt to set the value for a key that already exists in the dictionary (using `=`), we won't add a second key/value pair for that key---we'll just overwrite the existing value:"
   ]
  },
  {
   "cell_type": "code",
   "execution_count": 33,
   "metadata": {},
   "outputs": [
    {
     "data": {
      "text/plain": [
       "1"
      ]
     },
     "execution_count": 33,
     "metadata": {},
     "output_type": "execute_result"
    }
   ],
   "source": [
    "test_dict = {'a': 1, 'b': 2}\n",
    "test_dict['a']"
   ]
  },
  {
   "cell_type": "code",
   "execution_count": 34,
   "metadata": {},
   "outputs": [
    {
     "data": {
      "text/plain": [
       "100"
      ]
     },
     "execution_count": 34,
     "metadata": {},
     "output_type": "execute_result"
    }
   ],
   "source": [
    "test_dict['a'] = 100\n",
    "test_dict['a']"
   ]
  },
  {
   "cell_type": "markdown",
   "metadata": {},
   "source": [
    "In the case where a key needs to map to multiple values, we might instead see a data structure in which the key maps to another kind of data structure that itself can contain multiple values, like a list:"
   ]
  },
  {
   "cell_type": "code",
   "execution_count": 35,
   "metadata": {
    "scrolled": true
   },
   "outputs": [
    {
     "data": {
      "text/plain": [
       "{'a': [1, 2, 3]}"
      ]
     },
     "execution_count": 35,
     "metadata": {},
     "output_type": "execute_result"
    }
   ],
   "source": [
    "{'a': [1, 2, 3]}"
   ]
  },
  {
   "cell_type": "markdown",
   "metadata": {},
   "source": [
    "### Representing column-oriented data with dictionaries\n",
    "\n",
    "Dictionaries are often used to represent table-like data structures (i.e., two-dimensional data structures with columns and rows). One way of representing such data is to make a list of dictionaries, where each individual row is represented with a dictionary whose keys are the column names, and whose values are the contents of the cell for that row. That's a mouthful—maybe easier to understand with an example:"
   ]
  },
  {
   "cell_type": "code",
   "execution_count": 58,
   "metadata": {},
   "outputs": [],
   "source": [
    "city_data_list = [\n",
    "    {\n",
    "      \"city\": \"New York\",\n",
    "      \"state\": \"New York\",\n",
    "      \"population\": 8461961\n",
    "    },\n",
    "    {\n",
    "      \"city\": \"Los Angeles\",\n",
    "      \"state\": \"California\",\n",
    "      \"population\": 3918872\n",
    "    },\n",
    "    {\n",
    "      \"city\": \"Chicago\",\n",
    "      \"state\": \"Illinois\",\n",
    "      \"population\": 2714017\n",
    "    },\n",
    "    {\n",
    "      \"city\": \"Houston\",\n",
    "      \"state\": \"Texas\",\n",
    "      \"population\": 2240582\n",
    "    },\n",
    "    {\n",
    "      \"city\": \"Philadelphia\",\n",
    "      \"state\": \"Pennsylvania\",\n",
    "      \"population\": 1559938\n",
    "    }\n",
    "]"
   ]
  },
  {
   "cell_type": "markdown",
   "metadata": {},
   "source": [
    "An individual row can be accessed by indexing the list, e.g.:"
   ]
  },
  {
   "cell_type": "code",
   "execution_count": 59,
   "metadata": {},
   "outputs": [
    {
     "data": {
      "text/plain": [
       "{'city': 'Chicago', 'state': 'Illinois', 'population': 2714017}"
      ]
     },
     "execution_count": 59,
     "metadata": {},
     "output_type": "execute_result"
    }
   ],
   "source": [
    "city_data_list[2]"
   ]
  },
  {
   "cell_type": "markdown",
   "metadata": {},
   "source": [
    "... and an individual cell value can be accessed by indexing a key name from that row:"
   ]
  },
  {
   "cell_type": "code",
   "execution_count": 60,
   "metadata": {},
   "outputs": [
    {
     "data": {
      "text/plain": [
       "'Illinois'"
      ]
     },
     "execution_count": 60,
     "metadata": {},
     "output_type": "execute_result"
    }
   ],
   "source": [
    "city_data_list[2]['state']"
   ]
  },
  {
   "cell_type": "markdown",
   "metadata": {},
   "source": [
    "Getting all of the values from a particular column involves a list comprehension. For example, to find the sum of the population of these cities:"
   ]
  },
  {
   "cell_type": "code",
   "execution_count": 61,
   "metadata": {},
   "outputs": [
    {
     "data": {
      "text/plain": [
       "18895370"
      ]
     },
     "execution_count": 61,
     "metadata": {},
     "output_type": "execute_result"
    }
   ],
   "source": [
    "sum([city['population'] for city in city_data_list])"
   ]
  },
  {
   "cell_type": "markdown",
   "metadata": {},
   "source": [
    "Another way of using a dictionary to represent tabular data is to have keys for every column, whose value is a list of all of the values for cells in that column. The data above, for example, can also be represented like this:"
   ]
  },
  {
   "cell_type": "code",
   "execution_count": 73,
   "metadata": {},
   "outputs": [],
   "source": [
    "city_data_dict = {\n",
    "    'city': ['New York', 'Los Angeles', 'Chicago', 'Houston', 'Philadelphia'],\n",
    "    'state': ['New York', 'California', 'Illinois', 'Texas', 'Pennsylvania'],\n",
    "    'population': [8461961, 3918872, 2714017, 2240582, 1559938]\n",
    "}"
   ]
  },
  {
   "cell_type": "markdown",
   "metadata": {},
   "source": [
    "In this arrangement, getting the value for a particular column and row involves indexing the key for the column, and then the numerical index for the row:"
   ]
  },
  {
   "cell_type": "code",
   "execution_count": 74,
   "metadata": {},
   "outputs": [
    {
     "data": {
      "text/plain": [
       "'Illinois'"
      ]
     },
     "execution_count": 74,
     "metadata": {},
     "output_type": "execute_result"
    }
   ],
   "source": [
    "city_data_dict['state'][2]"
   ]
  },
  {
   "cell_type": "markdown",
   "metadata": {},
   "source": [
    "... but performing operations on an entire column only involves one index (i.e., getting the value for the key corresponding to the column):"
   ]
  },
  {
   "cell_type": "code",
   "execution_count": 75,
   "metadata": {},
   "outputs": [
    {
     "data": {
      "text/plain": [
       "18895370"
      ]
     },
     "execution_count": 75,
     "metadata": {},
     "output_type": "execute_result"
    }
   ],
   "source": [
    "sum(city_data_dict['population'])"
   ]
  },
  {
   "cell_type": "markdown",
   "metadata": {},
   "source": [
    "It's easy to use either of these formats with Pandas, by the way. Just pass the dictionary as an argument to the `DataFrame` constructor. This works both for lists-of-dictionaries..."
   ]
  },
  {
   "cell_type": "code",
   "execution_count": 76,
   "metadata": {},
   "outputs": [],
   "source": [
    "import pandas as pd"
   ]
  },
  {
   "cell_type": "code",
   "execution_count": 77,
   "metadata": {},
   "outputs": [
    {
     "data": {
      "text/html": [
       "<div>\n",
       "<style scoped>\n",
       "    .dataframe tbody tr th:only-of-type {\n",
       "        vertical-align: middle;\n",
       "    }\n",
       "\n",
       "    .dataframe tbody tr th {\n",
       "        vertical-align: top;\n",
       "    }\n",
       "\n",
       "    .dataframe thead th {\n",
       "        text-align: right;\n",
       "    }\n",
       "</style>\n",
       "<table border=\"1\" class=\"dataframe\">\n",
       "  <thead>\n",
       "    <tr style=\"text-align: right;\">\n",
       "      <th></th>\n",
       "      <th>city</th>\n",
       "      <th>state</th>\n",
       "      <th>population</th>\n",
       "    </tr>\n",
       "  </thead>\n",
       "  <tbody>\n",
       "    <tr>\n",
       "      <th>0</th>\n",
       "      <td>New York</td>\n",
       "      <td>New York</td>\n",
       "      <td>8461961</td>\n",
       "    </tr>\n",
       "    <tr>\n",
       "      <th>1</th>\n",
       "      <td>Los Angeles</td>\n",
       "      <td>California</td>\n",
       "      <td>3918872</td>\n",
       "    </tr>\n",
       "    <tr>\n",
       "      <th>2</th>\n",
       "      <td>Chicago</td>\n",
       "      <td>Illinois</td>\n",
       "      <td>2714017</td>\n",
       "    </tr>\n",
       "    <tr>\n",
       "      <th>3</th>\n",
       "      <td>Houston</td>\n",
       "      <td>Texas</td>\n",
       "      <td>2240582</td>\n",
       "    </tr>\n",
       "    <tr>\n",
       "      <th>4</th>\n",
       "      <td>Philadelphia</td>\n",
       "      <td>Pennsylvania</td>\n",
       "      <td>1559938</td>\n",
       "    </tr>\n",
       "  </tbody>\n",
       "</table>\n",
       "</div>"
      ],
      "text/plain": [
       "           city         state  population\n",
       "0      New York      New York     8461961\n",
       "1   Los Angeles    California     3918872\n",
       "2       Chicago      Illinois     2714017\n",
       "3       Houston         Texas     2240582\n",
       "4  Philadelphia  Pennsylvania     1559938"
      ]
     },
     "execution_count": 77,
     "metadata": {},
     "output_type": "execute_result"
    }
   ],
   "source": [
    "df = pd.DataFrame(city_data_list)\n",
    "df"
   ]
  },
  {
   "cell_type": "markdown",
   "metadata": {},
   "source": [
    "... and dictionaries of lists:"
   ]
  },
  {
   "cell_type": "code",
   "execution_count": 78,
   "metadata": {
    "scrolled": true
   },
   "outputs": [
    {
     "data": {
      "text/html": [
       "<div>\n",
       "<style scoped>\n",
       "    .dataframe tbody tr th:only-of-type {\n",
       "        vertical-align: middle;\n",
       "    }\n",
       "\n",
       "    .dataframe tbody tr th {\n",
       "        vertical-align: top;\n",
       "    }\n",
       "\n",
       "    .dataframe thead th {\n",
       "        text-align: right;\n",
       "    }\n",
       "</style>\n",
       "<table border=\"1\" class=\"dataframe\">\n",
       "  <thead>\n",
       "    <tr style=\"text-align: right;\">\n",
       "      <th></th>\n",
       "      <th>city</th>\n",
       "      <th>state</th>\n",
       "      <th>population</th>\n",
       "    </tr>\n",
       "  </thead>\n",
       "  <tbody>\n",
       "    <tr>\n",
       "      <th>0</th>\n",
       "      <td>New York</td>\n",
       "      <td>New York</td>\n",
       "      <td>8461961</td>\n",
       "    </tr>\n",
       "    <tr>\n",
       "      <th>1</th>\n",
       "      <td>Los Angeles</td>\n",
       "      <td>California</td>\n",
       "      <td>3918872</td>\n",
       "    </tr>\n",
       "    <tr>\n",
       "      <th>2</th>\n",
       "      <td>Chicago</td>\n",
       "      <td>Illinois</td>\n",
       "      <td>2714017</td>\n",
       "    </tr>\n",
       "    <tr>\n",
       "      <th>3</th>\n",
       "      <td>Houston</td>\n",
       "      <td>Texas</td>\n",
       "      <td>2240582</td>\n",
       "    </tr>\n",
       "    <tr>\n",
       "      <th>4</th>\n",
       "      <td>Philadelphia</td>\n",
       "      <td>Pennsylvania</td>\n",
       "      <td>1559938</td>\n",
       "    </tr>\n",
       "  </tbody>\n",
       "</table>\n",
       "</div>"
      ],
      "text/plain": [
       "           city         state  population\n",
       "0      New York      New York     8461961\n",
       "1   Los Angeles    California     3918872\n",
       "2       Chicago      Illinois     2714017\n",
       "3       Houston         Texas     2240582\n",
       "4  Philadelphia  Pennsylvania     1559938"
      ]
     },
     "execution_count": 78,
     "metadata": {},
     "output_type": "execute_result"
    }
   ],
   "source": [
    "df = pd.DataFrame(city_data_dict)\n",
    "df"
   ]
  },
  {
   "cell_type": "markdown",
   "metadata": {},
   "source": [
    "Neat!\n",
    "\n",
    "By the way, the [city data](https://github.com/dariusk/corpora/blob/master/data/geography/us_cities.json) I used in this example is from the [Corpora Project](https://github.com/dariusk/corpora/tree/master), which has a number of useful small datasets. These datasets are in JSON format, but for the most part, they can be copy/pasted into your Python code without modification.\n",
    "\n",
    "> *Advanced exercise*: Write some code that converts data in the list-of-dictionaries format to the dictionary-of-lists format, and vice versa. You might look into the `defaultdict` class from the Collections library."
   ]
  },
  {
   "cell_type": "markdown",
   "metadata": {},
   "source": [
    "## Sets\n",
    "\n",
    "The set is our second important data structure. You can think of a set as a kind of list, but with the following caveats:\n",
    "\n",
    "1. Sets don’t maintain the order of objects after you’ve put them in.\n",
    "2. You can’t add an object to a set if it already has an identical object.\n",
    "\n",
    "Objects can be added to a set by calling its `.add()` method (as opposed to the `.append()` method used for lists).\n",
    "\n",
    "A corollary to item 1 from the list above is that you can’t use the square bracket notation to access a particular element in a set. Once you’ve added an object, the only operations you can do are to check to see if an object is in the set (with the `in` operator), and iterate over all objects in the set (with, for example, `for`). So, for example, to initialize a set:"
   ]
  },
  {
   "cell_type": "code",
   "execution_count": 36,
   "metadata": {},
   "outputs": [],
   "source": [
    "emojis = set()"
   ]
  },
  {
   "cell_type": "markdown",
   "metadata": {},
   "source": [
    "And then add some items to the set:"
   ]
  },
  {
   "cell_type": "code",
   "execution_count": 37,
   "metadata": {},
   "outputs": [],
   "source": [
    "emojis.add(\"😀\")\n",
    "emojis.add(\"😜\")\n",
    "emojis.add(\"😐\")"
   ]
  },
  {
   "cell_type": "markdown",
   "metadata": {},
   "source": [
    "Evaluating the set shows us its members:"
   ]
  },
  {
   "cell_type": "code",
   "execution_count": 38,
   "metadata": {},
   "outputs": [
    {
     "data": {
      "text/plain": [
       "{'😀', '😐', '😜'}"
      ]
     },
     "execution_count": 38,
     "metadata": {},
     "output_type": "execute_result"
    }
   ],
   "source": [
    "emojis"
   ]
  },
  {
   "cell_type": "markdown",
   "metadata": {},
   "source": [
    "And you can check to see if something is in a set using the `in` operator:"
   ]
  },
  {
   "cell_type": "code",
   "execution_count": 39,
   "metadata": {},
   "outputs": [
    {
     "data": {
      "text/plain": [
       "True"
      ]
     },
     "execution_count": 39,
     "metadata": {},
     "output_type": "execute_result"
    }
   ],
   "source": [
    "'😀' in emojis"
   ]
  },
  {
   "cell_type": "code",
   "execution_count": 40,
   "metadata": {},
   "outputs": [
    {
     "data": {
      "text/plain": [
       "False"
      ]
     },
     "execution_count": 40,
     "metadata": {},
     "output_type": "execute_result"
    }
   ],
   "source": [
    "'hello' in emojis"
   ]
  },
  {
   "cell_type": "markdown",
   "metadata": {},
   "source": [
    "You can write a loop that executes code for every item in a set by putting the set between `in` and the colon in a `for` loop:"
   ]
  },
  {
   "cell_type": "code",
   "execution_count": 42,
   "metadata": {},
   "outputs": [
    {
     "name": "stdout",
     "output_type": "stream",
     "text": [
      "😀\n",
      "😜\n",
      "😐\n"
     ]
    }
   ],
   "source": [
    "for item in emojis:\n",
    "    print(item)"
   ]
  },
  {
   "cell_type": "markdown",
   "metadata": {},
   "source": [
    "An additional aspect of sets to note from the transcript above: because sets don’t maintain the order of objects, you’ll get the objects back in (seemingly) random order when you iterate over the set. For most applications, this isn’t a problem, but it’s something to keep in mind.\n",
    "\n",
    "One thing you'll notice about sets is that you can't add the same item twice. Observe:"
   ]
  },
  {
   "cell_type": "code",
   "execution_count": 43,
   "metadata": {},
   "outputs": [],
   "source": [
    "important_numbers = set([5, 10, 15, 20, 25])"
   ]
  },
  {
   "cell_type": "code",
   "execution_count": 44,
   "metadata": {},
   "outputs": [
    {
     "data": {
      "text/plain": [
       "{5, 10, 15, 20, 25}"
      ]
     },
     "execution_count": 44,
     "metadata": {},
     "output_type": "execute_result"
    }
   ],
   "source": [
    "important_numbers"
   ]
  },
  {
   "cell_type": "code",
   "execution_count": 45,
   "metadata": {},
   "outputs": [],
   "source": [
    "important_numbers.add(15)"
   ]
  },
  {
   "cell_type": "code",
   "execution_count": 46,
   "metadata": {},
   "outputs": [
    {
     "data": {
      "text/plain": [
       "{5, 10, 15, 20, 25}"
      ]
     },
     "execution_count": 46,
     "metadata": {},
     "output_type": "execute_result"
    }
   ],
   "source": [
    "important_numbers"
   ]
  },
  {
   "cell_type": "markdown",
   "metadata": {},
   "source": [
    "For this reason, sets are often used as a way to quickly remove duplicates from a list. All you need to do is pass a list to the `set()` function, and then use the `list()` function to convert the data back into a list. For example:"
   ]
  },
  {
   "cell_type": "code",
   "execution_count": 47,
   "metadata": {},
   "outputs": [],
   "source": [
    "letters = [\"a\", \"b\", \"c\", \"a\", \"d\", \"a\", \"b\", \"e\"]"
   ]
  },
  {
   "cell_type": "code",
   "execution_count": 48,
   "metadata": {},
   "outputs": [
    {
     "data": {
      "text/plain": [
       "['e', 'b', 'd', 'c', 'a']"
      ]
     },
     "execution_count": 48,
     "metadata": {},
     "output_type": "execute_result"
    }
   ],
   "source": [
    "list(set(letters))"
   ]
  },
  {
   "cell_type": "markdown",
   "metadata": {},
   "source": [
    "## Tuples\n",
    "\n",
    "Tuples (rhymes with \"supple\") are data structures very similar to lists. You can create a tuple using parentheses (instead of square brackets, as you would with a list):"
   ]
  },
  {
   "cell_type": "code",
   "execution_count": 49,
   "metadata": {},
   "outputs": [
    {
     "data": {
      "text/plain": [
       "('alpha', 'beta', 'gamma', 'delta')"
      ]
     },
     "execution_count": 49,
     "metadata": {},
     "output_type": "execute_result"
    }
   ],
   "source": [
    "t = (\"alpha\", \"beta\", \"gamma\", \"delta\")\n",
    "t"
   ]
  },
  {
   "cell_type": "markdown",
   "metadata": {},
   "source": [
    "You can access the values in a tuple in the same way as you access the values in a list: using square bracket indexing \n",
    "syntax. Tuples support slice syntax and negative indexes, just like lists:"
   ]
  },
  {
   "cell_type": "code",
   "execution_count": 50,
   "metadata": {},
   "outputs": [
    {
     "data": {
      "text/plain": [
       "'gamma'"
      ]
     },
     "execution_count": 50,
     "metadata": {},
     "output_type": "execute_result"
    }
   ],
   "source": [
    "t[-2]"
   ]
  },
  {
   "cell_type": "code",
   "execution_count": 51,
   "metadata": {},
   "outputs": [
    {
     "data": {
      "text/plain": [
       "('beta', 'gamma')"
      ]
     },
     "execution_count": 51,
     "metadata": {},
     "output_type": "execute_result"
    }
   ],
   "source": [
    "t[1:3]"
   ]
  },
  {
   "cell_type": "markdown",
   "metadata": {},
   "source": [
    "The difference between a list and a tuple is that the values in a tuple can't be changed after the tuple is created. This means, for example, that attempting to .append() a value to a tuple will fail:"
   ]
  },
  {
   "cell_type": "code",
   "execution_count": 52,
   "metadata": {},
   "outputs": [
    {
     "ename": "AttributeError",
     "evalue": "'tuple' object has no attribute 'append'",
     "output_type": "error",
     "traceback": [
      "\u001b[0;31m---------------------------------------------------------------------------\u001b[0m",
      "\u001b[0;31mAttributeError\u001b[0m                            Traceback (most recent call last)",
      "Cell \u001b[0;32mIn[52], line 1\u001b[0m\n\u001b[0;32m----> 1\u001b[0m t\u001b[38;5;241m.\u001b[39mappend(\u001b[38;5;124m\"\u001b[39m\u001b[38;5;124mepsilon\u001b[39m\u001b[38;5;124m\"\u001b[39m)\n",
      "\u001b[0;31mAttributeError\u001b[0m: 'tuple' object has no attribute 'append'"
     ]
    }
   ],
   "source": [
    "t.append(\"epsilon\")"
   ]
  },
  {
   "cell_type": "markdown",
   "metadata": {},
   "source": [
    "Likewise, assigning to an index of a tuple will fail:"
   ]
  },
  {
   "cell_type": "code",
   "execution_count": 53,
   "metadata": {},
   "outputs": [
    {
     "ename": "TypeError",
     "evalue": "'tuple' object does not support item assignment",
     "output_type": "error",
     "traceback": [
      "\u001b[0;31m---------------------------------------------------------------------------\u001b[0m",
      "\u001b[0;31mTypeError\u001b[0m                                 Traceback (most recent call last)",
      "Cell \u001b[0;32mIn[53], line 1\u001b[0m\n\u001b[0;32m----> 1\u001b[0m t[\u001b[38;5;241m2\u001b[39m] \u001b[38;5;241m=\u001b[39m \u001b[38;5;124m\"\u001b[39m\u001b[38;5;124mbravo\u001b[39m\u001b[38;5;124m\"\u001b[39m\n",
      "\u001b[0;31mTypeError\u001b[0m: 'tuple' object does not support item assignment"
     ]
    }
   ],
   "source": [
    "t[2] = \"bravo\""
   ]
  },
  {
   "cell_type": "markdown",
   "metadata": {},
   "source": [
    "### Why tuples? Why now?\n",
    "\n",
    "\"So,\" you think to yourself. \"Tuples are just like... broken lists. That's strange and a little unreasonable. Why even have them in your programming language?\" That's a fair question, and answering it requires a bit of knowledge of how Python works with these two kinds of values (lists and tuples) behind the scenes.\n",
    "\n",
    "Essentially, tuples are *faster* and *smaller* than lists. Because lists can be modified, potentially becoming larger after they're initialized, Python has to allocate more memory than is strictly necessary whenever you create a list value. If your list grows beyond what Python has already allocated, Python has to allocate more memory. Allocating memory, copying values into memory, and then freeing memory when it's when no longer needed, are all (perhaps surprisingly) slow processes—slower, at least, than using data already loaded into memory when your program begins.\n",
    "\n",
    "Because a tuple can't grow or shrink after it's created, Python knows exactly how much memory to allocate when you create a tuple in your program. That means: less wasted memory, and less wasted time allocating a deallocating memory. The cost of this decreased resource footprint is less versatility.\n",
    "\n",
    "Tuples are often called an immutable data type. \"Immutable\" in this context simply means that it can't be changed after it's created.\n",
    "\n",
    "### Tuple unpacking in `for` loops\n",
    "\n",
    "Python \"unpacks\" lists of tuples in `for` loops. This means that a `for` loop can technically have more than one temporary variable name in the initial `for` statement; those temporary variables will be filled, in order, with the tuples from the list that you are iterating over. For example, here we have a list of tuples:"
   ]
  },
  {
   "cell_type": "code",
   "execution_count": 86,
   "metadata": {},
   "outputs": [],
   "source": [
    "names = [\n",
    "    ('James', 'Kirk', 'Enterprise'),\n",
    "    ('Jean-Luc', 'Picard', 'Enterprise D'),\n",
    "    ('Benjamin', 'Sisko', 'Defiant'),\n",
    "    ('Kathryn', 'Janeway', 'Voyager')\n",
    "]"
   ]
  },
  {
   "cell_type": "markdown",
   "metadata": {},
   "source": [
    "Iterating over this list in a `for` loop gives the following:"
   ]
  },
  {
   "cell_type": "code",
   "execution_count": 87,
   "metadata": {},
   "outputs": [
    {
     "name": "stdout",
     "output_type": "stream",
     "text": [
      "('James', 'Kirk', 'Enterprise')\n",
      "('Jean-Luc', 'Picard', 'Enterprise D')\n",
      "('Benjamin', 'Sisko', 'Defiant')\n",
      "('Kathryn', 'Janeway', 'Voyager')\n"
     ]
    }
   ],
   "source": [
    "for item in names:\n",
    "    print(item)"
   ]
  },
  {
   "cell_type": "markdown",
   "metadata": {},
   "source": [
    "But if we use *two* temporary variables, separated by commas, the first temporary variable gets the value of the first item in the tuple, the second temporary variable gets the value of the second variable, and so forth:"
   ]
  },
  {
   "cell_type": "code",
   "execution_count": 89,
   "metadata": {},
   "outputs": [
    {
     "name": "stdout",
     "output_type": "stream",
     "text": [
      "First name: James\n",
      "Last name: Kirk\n",
      "Vessel: Enterprise\n",
      "---\n",
      "First name: Jean-Luc\n",
      "Last name: Picard\n",
      "Vessel: Enterprise D\n",
      "---\n",
      "First name: Benjamin\n",
      "Last name: Sisko\n",
      "Vessel: Defiant\n",
      "---\n",
      "First name: Kathryn\n",
      "Last name: Janeway\n",
      "Vessel: Voyager\n",
      "---\n"
     ]
    }
   ],
   "source": [
    "for a, b, c in names:\n",
    "    print(\"First name:\", a)\n",
    "    print(\"Last name:\", b)\n",
    "    print(\"Vessel:\", c)\n",
    "    print(\"---\")"
   ]
  },
  {
   "cell_type": "markdown",
   "metadata": {},
   "source": [
    "Of course the temporary variable names can be whatever you choose. If you use more (or fewer) temporary variables than there are values in the tuple, you get an error:"
   ]
  },
  {
   "cell_type": "code",
   "execution_count": 90,
   "metadata": {},
   "outputs": [
    {
     "ename": "ValueError",
     "evalue": "too many values to unpack (expected 2)",
     "output_type": "error",
     "traceback": [
      "\u001b[0;31m---------------------------------------------------------------------------\u001b[0m",
      "\u001b[0;31mValueError\u001b[0m                                Traceback (most recent call last)",
      "Cell \u001b[0;32mIn[90], line 1\u001b[0m\n\u001b[0;32m----> 1\u001b[0m \u001b[38;5;28;01mfor\u001b[39;00m a, b \u001b[38;5;129;01min\u001b[39;00m names:\n\u001b[1;32m      2\u001b[0m     \u001b[38;5;28mprint\u001b[39m(a, b)\n",
      "\u001b[0;31mValueError\u001b[0m: too many values to unpack (expected 2)"
     ]
    }
   ],
   "source": [
    "for a, b in names:\n",
    "    print(a, b)"
   ]
  },
  {
   "cell_type": "code",
   "execution_count": 91,
   "metadata": {},
   "outputs": [
    {
     "ename": "ValueError",
     "evalue": "not enough values to unpack (expected 4, got 3)",
     "output_type": "error",
     "traceback": [
      "\u001b[0;31m---------------------------------------------------------------------------\u001b[0m",
      "\u001b[0;31mValueError\u001b[0m                                Traceback (most recent call last)",
      "Cell \u001b[0;32mIn[91], line 1\u001b[0m\n\u001b[0;32m----> 1\u001b[0m \u001b[38;5;28;01mfor\u001b[39;00m a, b, c, d \u001b[38;5;129;01min\u001b[39;00m names:\n\u001b[1;32m      2\u001b[0m     \u001b[38;5;28mprint\u001b[39m(a, b, c, d)\n",
      "\u001b[0;31mValueError\u001b[0m: not enough values to unpack (expected 4, got 3)"
     ]
    }
   ],
   "source": [
    "for a, b, c, d in names:\n",
    "    print(a, b, c, d)"
   ]
  },
  {
   "cell_type": "markdown",
   "metadata": {},
   "source": [
    "### Tuples in the standard library\n",
    "\n",
    "Because tuples are faster, they're often the data type that gets returned from methods and functions in Python's built-in library. For example, the .items() method of the dictionary object returns a list of tuples (rather than, as you might otherwise expect, a list of lists):"
   ]
  },
  {
   "cell_type": "code",
   "execution_count": 92,
   "metadata": {},
   "outputs": [
    {
     "data": {
      "text/plain": [
       "dict_items([('mercury', 0), ('venus', 0), ('earth', 1), ('mars', 2)])"
      ]
     },
     "execution_count": 92,
     "metadata": {},
     "output_type": "execute_result"
    }
   ],
   "source": [
    "moon_counts = {'mercury': 0, 'venus': 0, 'earth': 1, 'mars': 2}\n",
    "moon_counts.items()"
   ]
  },
  {
   "cell_type": "markdown",
   "metadata": {},
   "source": [
    "The tuple() function takes a list and returns it as a tuple:"
   ]
  },
  {
   "cell_type": "code",
   "execution_count": 93,
   "metadata": {},
   "outputs": [
    {
     "data": {
      "text/plain": [
       "(1, 2, 3, 4, 5)"
      ]
     },
     "execution_count": 93,
     "metadata": {},
     "output_type": "execute_result"
    }
   ],
   "source": [
    "tuple([1, 2, 3, 4, 5])"
   ]
  },
  {
   "cell_type": "markdown",
   "metadata": {},
   "source": [
    "If you want to initialize a new list with with data in a tuple, you can pass the tuple to the list() function:"
   ]
  },
  {
   "cell_type": "code",
   "execution_count": 94,
   "metadata": {},
   "outputs": [
    {
     "data": {
      "text/plain": [
       "[1, 2, 3, 4, 5]"
      ]
     },
     "execution_count": 94,
     "metadata": {},
     "output_type": "execute_result"
    }
   ],
   "source": [
    "list((1, 2, 3, 4, 5))"
   ]
  },
  {
   "cell_type": "markdown",
   "metadata": {},
   "source": [
    "### Zip and enumerate\n",
    "\n",
    "There are two very useful functions that work with lists and tuples. The first is `enumerate()`, which takes a list and converts it to a list of tuples, where each tuple's second element is the value from the original list, and the first element is the index of that value in the list. Again, this is easier to describe with an example:"
   ]
  },
  {
   "cell_type": "code",
   "execution_count": 95,
   "metadata": {},
   "outputs": [],
   "source": [
    "planets = [\"Mercury\", \"Venus\", \"Earth\", \"Mars\", \"Jupiter\", \"Saturn\", \"Uranus\", \"Neptune\"]"
   ]
  },
  {
   "cell_type": "code",
   "execution_count": 96,
   "metadata": {},
   "outputs": [
    {
     "data": {
      "text/plain": [
       "[(0, 'Mercury'),\n",
       " (1, 'Venus'),\n",
       " (2, 'Earth'),\n",
       " (3, 'Mars'),\n",
       " (4, 'Jupiter'),\n",
       " (5, 'Saturn'),\n",
       " (6, 'Uranus'),\n",
       " (7, 'Neptune')]"
      ]
     },
     "execution_count": 96,
     "metadata": {},
     "output_type": "execute_result"
    }
   ],
   "source": [
    "list(enumerate(planets))"
   ]
  },
  {
   "cell_type": "markdown",
   "metadata": {},
   "source": [
    "(Technically, `enumerate()` evaluates to an `enumerate` object, which we can turn into a list with the `list()` function. But it operates like a list in other contexts—see below.) This is especially useful in `for` loops, where we want both the numerical index of the item, as well as its value:"
   ]
  },
  {
   "cell_type": "code",
   "execution_count": 97,
   "metadata": {},
   "outputs": [
    {
     "name": "stdout",
     "output_type": "stream",
     "text": [
      "0 Mercury\n",
      "1 Venus\n",
      "2 Earth\n",
      "3 Mars\n",
      "4 Jupiter\n",
      "5 Saturn\n",
      "6 Uranus\n",
      "7 Neptune\n"
     ]
    }
   ],
   "source": [
    "for i, item in enumerate(planets):\n",
    "    print(i, item)"
   ]
  },
  {
   "cell_type": "markdown",
   "metadata": {},
   "source": [
    "The `zip()` function takes two lists of equal length, and returns a list of tuples that pairs up each successive item from both lists. This is useful for joining together two different lists into a single data structure, when you know that the items in both lists are related by index. For example:"
   ]
  },
  {
   "cell_type": "code",
   "execution_count": 99,
   "metadata": {},
   "outputs": [
    {
     "data": {
      "text/plain": [
       "[('Kirk', 'Enterprise'),\n",
       " ('Picard', 'Enterprise-D'),\n",
       " ('Sisko', 'Defiant'),\n",
       " ('Janeway', 'Voyager')]"
      ]
     },
     "execution_count": 99,
     "metadata": {},
     "output_type": "execute_result"
    }
   ],
   "source": [
    "vessels = [\"Enterprise\", \"Enterprise-D\", \"Defiant\", \"Voyager\"]\n",
    "captains = [\"Kirk\", \"Picard\", \"Sisko\", \"Janeway\"]\n",
    "list(zip(captains, vessels))"
   ]
  },
  {
   "cell_type": "markdown",
   "metadata": {},
   "source": [
    "Again, this is often used in `for` loops or list comprehensions to easily iterate over two lists at once:"
   ]
  },
  {
   "cell_type": "code",
   "execution_count": 100,
   "metadata": {},
   "outputs": [
    {
     "name": "stdout",
     "output_type": "stream",
     "text": [
      "Kirk is the captain of Enterprise\n",
      "Picard is the captain of Enterprise-D\n",
      "Sisko is the captain of Defiant\n",
      "Janeway is the captain of Voyager\n"
     ]
    }
   ],
   "source": [
    "for a, b in zip(captains, vessels):\n",
    "    print(a, \"is the captain of\", b)"
   ]
  }
 ],
 "metadata": {
  "kernelspec": {
   "display_name": "Python 3 (ipykernel)",
   "language": "python",
   "name": "python3"
  },
  "language_info": {
   "codemirror_mode": {
    "name": "ipython",
    "version": 3
   },
   "file_extension": ".py",
   "mimetype": "text/x-python",
   "name": "python",
   "nbconvert_exporter": "python",
   "pygments_lexer": "ipython3",
   "version": "3.11.5"
  }
 },
 "nbformat": 4,
 "nbformat_minor": 1
}
