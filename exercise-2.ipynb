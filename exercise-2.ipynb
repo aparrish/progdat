{
 "cells": [
  {
   "cell_type": "markdown",
   "metadata": {},
   "source": [
    "# Exercise 2: Pandas\n",
    "\n",
    "Before you begin, run the cell below to import the appropriate libraries."
   ]
  },
  {
   "cell_type": "code",
   "execution_count": 2,
   "metadata": {},
   "outputs": [],
   "source": [
    "%matplotlib inline\n",
    "import pandas as pd\n",
    "import numpy as np\n",
    "import matplotlib.pyplot as plt\n",
    "plt.style.use('ggplot')\n",
    "plt.rcParams[\"figure.figsize\"] = (10, 4)"
   ]
  },
  {
   "cell_type": "markdown",
   "metadata": {},
   "source": [
    "For this worksheet, you'll be using a simplified version of a month's worth of data from NYC's [Green Taxis](https://www.nyc.gov/site/tlc/about/tlc-trip-record-data.page). You can download the data [here](green_tripdata_simple_2016-12.csv). Put it in the same directory as this worksheet. (The simplified version omits a number of fields and randomly samples 100k rows from several million rows, mainly to decrease the file size.)"
   ]
  },
  {
   "cell_type": "code",
   "execution_count": 5,
   "metadata": {},
   "outputs": [],
   "source": [
    "df = pd.read_csv(\"./green_tripdata_simple_2016-12.csv\")"
   ]
  },
  {
   "cell_type": "code",
   "execution_count": 6,
   "metadata": {},
   "outputs": [
    {
     "data": {
      "text/html": [
       "<div>\n",
       "<style scoped>\n",
       "    .dataframe tbody tr th:only-of-type {\n",
       "        vertical-align: middle;\n",
       "    }\n",
       "\n",
       "    .dataframe tbody tr th {\n",
       "        vertical-align: top;\n",
       "    }\n",
       "\n",
       "    .dataframe thead th {\n",
       "        text-align: right;\n",
       "    }\n",
       "</style>\n",
       "<table border=\"1\" class=\"dataframe\">\n",
       "  <thead>\n",
       "    <tr style=\"text-align: right;\">\n",
       "      <th></th>\n",
       "      <th>lpep_pickup_datetime</th>\n",
       "      <th>passenger_count</th>\n",
       "      <th>trip_distance</th>\n",
       "      <th>total_amount</th>\n",
       "    </tr>\n",
       "  </thead>\n",
       "  <tbody>\n",
       "    <tr>\n",
       "      <th>0</th>\n",
       "      <td>2016-12-01 00:00:00</td>\n",
       "      <td>1</td>\n",
       "      <td>1.84</td>\n",
       "      <td>9.80</td>\n",
       "    </tr>\n",
       "    <tr>\n",
       "      <th>1</th>\n",
       "      <td>2016-12-01 00:00:33</td>\n",
       "      <td>1</td>\n",
       "      <td>4.20</td>\n",
       "      <td>16.30</td>\n",
       "    </tr>\n",
       "    <tr>\n",
       "      <th>2</th>\n",
       "      <td>2016-12-01 00:00:47</td>\n",
       "      <td>1</td>\n",
       "      <td>2.34</td>\n",
       "      <td>14.16</td>\n",
       "    </tr>\n",
       "    <tr>\n",
       "      <th>3</th>\n",
       "      <td>2016-12-01 00:01:23</td>\n",
       "      <td>1</td>\n",
       "      <td>0.87</td>\n",
       "      <td>6.80</td>\n",
       "    </tr>\n",
       "    <tr>\n",
       "      <th>4</th>\n",
       "      <td>2016-12-01 00:01:54</td>\n",
       "      <td>1</td>\n",
       "      <td>4.35</td>\n",
       "      <td>17.30</td>\n",
       "    </tr>\n",
       "    <tr>\n",
       "      <th>...</th>\n",
       "      <td>...</td>\n",
       "      <td>...</td>\n",
       "      <td>...</td>\n",
       "      <td>...</td>\n",
       "    </tr>\n",
       "    <tr>\n",
       "      <th>99995</th>\n",
       "      <td>2016-12-31 23:58:03</td>\n",
       "      <td>1</td>\n",
       "      <td>0.33</td>\n",
       "      <td>5.80</td>\n",
       "    </tr>\n",
       "    <tr>\n",
       "      <th>99996</th>\n",
       "      <td>2016-12-31 23:58:54</td>\n",
       "      <td>1</td>\n",
       "      <td>3.77</td>\n",
       "      <td>15.30</td>\n",
       "    </tr>\n",
       "    <tr>\n",
       "      <th>99997</th>\n",
       "      <td>2016-12-31 23:59:33</td>\n",
       "      <td>1</td>\n",
       "      <td>3.43</td>\n",
       "      <td>14.30</td>\n",
       "    </tr>\n",
       "    <tr>\n",
       "      <th>99998</th>\n",
       "      <td>2016-12-31 23:59:57</td>\n",
       "      <td>1</td>\n",
       "      <td>1.44</td>\n",
       "      <td>10.80</td>\n",
       "    </tr>\n",
       "    <tr>\n",
       "      <th>99999</th>\n",
       "      <td>2016-12-31 23:59:58</td>\n",
       "      <td>2</td>\n",
       "      <td>5.20</td>\n",
       "      <td>17.30</td>\n",
       "    </tr>\n",
       "  </tbody>\n",
       "</table>\n",
       "<p>100000 rows × 4 columns</p>\n",
       "</div>"
      ],
      "text/plain": [
       "      lpep_pickup_datetime  passenger_count  trip_distance  total_amount\n",
       "0      2016-12-01 00:00:00                1           1.84          9.80\n",
       "1      2016-12-01 00:00:33                1           4.20         16.30\n",
       "2      2016-12-01 00:00:47                1           2.34         14.16\n",
       "3      2016-12-01 00:01:23                1           0.87          6.80\n",
       "4      2016-12-01 00:01:54                1           4.35         17.30\n",
       "...                    ...              ...            ...           ...\n",
       "99995  2016-12-31 23:58:03                1           0.33          5.80\n",
       "99996  2016-12-31 23:58:54                1           3.77         15.30\n",
       "99997  2016-12-31 23:59:33                1           3.43         14.30\n",
       "99998  2016-12-31 23:59:57                1           1.44         10.80\n",
       "99999  2016-12-31 23:59:58                2           5.20         17.30\n",
       "\n",
       "[100000 rows x 4 columns]"
      ]
     },
     "execution_count": 6,
     "metadata": {},
     "output_type": "execute_result"
    }
   ],
   "source": [
    "df"
   ]
  },
  {
   "cell_type": "markdown",
   "metadata": {},
   "source": [
    "## Task 1: Indexing columns\n",
    "\n",
    "Modify the expression in the cell below so that it evaluates to the *average trip distance* of all rows in the data frame.\n",
    "\n",
    "Expected output: `2.6186307`"
   ]
  },
  {
   "cell_type": "code",
   "execution_count": null,
   "metadata": {
    "scrolled": true
   },
   "outputs": [],
   "source": [
    "df[???].mean()"
   ]
  },
  {
   "cell_type": "markdown",
   "metadata": {},
   "source": [
    "## Task 2: Limiting rows by count\n",
    "\n",
    "Modify the expression in the cell below so that it evaluates to the sum of the `total_amount` field for rows 100 through 200 in the data set.\n",
    "\n",
    "Expected output: `1267.5`"
   ]
  },
  {
   "cell_type": "code",
   "execution_count": null,
   "metadata": {},
   "outputs": [],
   "source": [
    "df[???][???:???].sum()"
   ]
  },
  {
   "cell_type": "markdown",
   "metadata": {},
   "source": [
    "## Task 3: Filtering the data frame\n",
    "\n",
    "Okay, now this one is tricky. Modify the expression in the cell below so that it evaluates to the *total trip distance* (i.e., the sum of the trip distance field) for all *single-occupant rides* (i.e., where the passenger count is 1).\n",
    "\n",
    "Expected output: `219594.61`"
   ]
  },
  {
   "cell_type": "code",
   "execution_count": null,
   "metadata": {},
   "outputs": [],
   "source": [
    "df[df[???] == ???]['trip_distance'].???()"
   ]
  },
  {
   "cell_type": "markdown",
   "metadata": {},
   "source": [
    "## Task 4: Filtering the data frame, part two\n",
    "\n",
    "Write an expression in the cell below that shows the trip distance of the *longest ride* taken by two or more people.\n",
    "\n",
    "Expected output: `100.39`"
   ]
  },
  {
   "cell_type": "code",
   "execution_count": null,
   "metadata": {},
   "outputs": [],
   "source": []
  },
  {
   "cell_type": "markdown",
   "metadata": {},
   "source": [
    "## Task 5: Plots\n",
    "\n",
    "In the cell below, write a statement or sequence of statements that draws a pie chart of passenger count frequency. (Hint: use `.value_counts()`.)\n",
    "\n",
    "Expected output:\n",
    "\n",
    "![pie chart](data:image/png;base64,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)"
   ]
  },
  {
   "cell_type": "code",
   "execution_count": null,
   "metadata": {
    "scrolled": true
   },
   "outputs": [],
   "source": []
  },
  {
   "cell_type": "markdown",
   "metadata": {},
   "source": [
    "Now, in the cell below, draw a histogram of trip distances. Use 50 bins.\n",
    "\n",
    "Expected output:\n",
    "\n",
    "![histogram](data:image/png;base64,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)"
   ]
  },
  {
   "cell_type": "code",
   "execution_count": null,
   "metadata": {},
   "outputs": [],
   "source": []
  },
  {
   "cell_type": "markdown",
   "metadata": {},
   "source": [
    "Okay! This last one is extremely tricky, but I know you can do it. In the cell below, write a statement or series of statements that draws a scatter plot with trip distance as the X axis and the total amount on the Y axis, but only including the rows where the total amount is greater than zero.\n",
    "\n",
    "Expected output:\n",
    "\n",
    "![scatter plot](data:image/png;base64,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)"
   ]
  },
  {
   "cell_type": "code",
   "execution_count": null,
   "metadata": {
    "scrolled": true
   },
   "outputs": [],
   "source": []
  },
  {
   "cell_type": "markdown",
   "metadata": {},
   "source": [
    "Excellent! You're done."
   ]
  }
 ],
 "metadata": {
  "kernelspec": {
   "display_name": "Python 3 (ipykernel)",
   "language": "python",
   "name": "python3"
  },
  "language_info": {
   "codemirror_mode": {
    "name": "ipython",
    "version": 3
   },
   "file_extension": ".py",
   "mimetype": "text/x-python",
   "name": "python",
   "nbconvert_exporter": "python",
   "pygments_lexer": "ipython3",
   "version": "3.11.5"
  }
 },
 "nbformat": 4,
 "nbformat_minor": 2
}
